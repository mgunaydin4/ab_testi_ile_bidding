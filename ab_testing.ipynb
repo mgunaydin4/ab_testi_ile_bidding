{
 "cells": [
  {
   "cell_type": "markdown",
   "source": [
    "# AB Testi ile Bidding Yöntemlerinin Dönüşümünün Karşılaştırılması"
   ],
   "metadata": {
    "collapsed": false
   },
   "id": "6de3d1324675570c"
  },
  {
   "cell_type": "markdown",
   "source": [
    "## İş Problemi\n",
    "\n",
    "Facebook kısa süre önce mevcut \"maximumbidding\" adı verilen teklif verme türüne alternatif olarak yeni bir teklif türü olan \"average bidding\"’i tanıttı. Müşterilerimizden biri olan bombabomba.com, bu yeni özelliği test etmeye karar verdi veaveragebidding'in maximumbidding'den daha fazla dönüşüm getirip getirmediğini anlamak için bir A/B testi yapmak istiyor.A/B testi 1 aydır devam ediyor ve bombabomba.com şimdi sizden bu A/B testinin sonuçlarını analiz etmenizi bekliyor.Bombabomba.com için nihai başarı ölçütü Purchase'dır. Bu nedenle, istatistiksel testler için Purchasemetriğine odaklanılmalıdır."
   ],
   "metadata": {
    "collapsed": false
   },
   "id": "4b0751d433190be7"
  },
  {
   "cell_type": "markdown",
   "source": [
    "## Veri Seti Hikayesi\n",
    "\n",
    "Bir firmanın web site bilgilerini içeren bu veri setinde kullanıcıların gördükleri ve tıkladıkları reklam sayıları gibi bilgilerin yanı sıra buradan gelen kazanç bilgileri yer almaktadır. Kontrol ve Test grubu olmak üzere iki ayrı veri seti vardır. Bu veri setleri ab_testing.xlsx excel’inin ayrı sayfalarında yer almaktadır. Kontrol grubuna Maximum Bidding, test grubuna Average Bidding uygulanmıştır."
   ],
   "metadata": {
    "collapsed": false
   },
   "id": "2cd8ae56ee96c5bb"
  },
  {
   "cell_type": "markdown",
   "source": [
    "**Değişkenler**\n",
    "\n",
    "**impression:** Reklam görüntüleme sayısı\n",
    "**Click:** Görüntülenen reklama tıklama sayısı\n",
    "**Purchase:** Tıklanan reklamlar sonrası satın alınan ürün sayısı\n",
    "**Earning:** Satın alınan ürünler sonrası elde edilen kazanç"
   ],
   "metadata": {
    "collapsed": false
   },
   "id": "4dd32cf2acb1bc4"
  },
  {
   "cell_type": "markdown",
   "source": [
    "**Proje Görevleri**"
   ],
   "metadata": {
    "collapsed": false
   },
   "id": "14062a1e691c865a"
  },
  {
   "cell_type": "markdown",
   "source": [
    "## AB Testing (Bağımsız İki Örneklem T Testi)\n",
    "\n",
    "1. Hipotezleri Kur\n",
    "2. Varsayım Kontrolü\n",
    "  - 1. Normallik Varsayımı (shapiro)\n",
    "  - 2. Varyans Homojenliği (levene)\n",
    "3. Hipotezin Uygulanması\n",
    "  - 1. Varsayımlar sağlanıyorsa bağımsız iki örneklem t testi\n",
    "  - 2. Varsayımlar sağlanmıyorsa mannwhitneyu testi\n",
    "4. p-value değerine göre sonuçları yorumla\n",
    "Not:\n",
    "- Normallik sağlanmıyorsa direkt 2 numara. Varyans homojenliği sağlanmıyorsa 1 numaraya arguman girilir.\n",
    "- Normallik incelemesi öncesi aykırı değer incelemesi ve düzeltmesi yapmak faydalı olabilir."
   ],
   "metadata": {
    "collapsed": false
   },
   "id": "4c3e70ee803e6f65"
  },
  {
   "cell_type": "code",
   "outputs": [],
   "source": [
    "# Görev 1:  Veriyi Hazırlama ve Analiz Etme\n",
    "\n",
    "import itertools\n",
    "import numpy as np\n",
    "import pandas as pd\n",
    "import seaborn as sns\n",
    "import matplotlib.pyplot as plt\n",
    "import statsmodels.stats.api as sms\n",
    "from scipy.stats import ttest_1samp, shapiro, levene, ttest_ind, \\\n",
    "    mannwhitneyu, pearsonr, spearmanr, kendalltau, f_oneway, kruskal\n",
    "from statsmodels.stats.proportion import proportions_ztest\n",
    "\n",
    "pd.set_option(\"display.max_columns\", None)\n",
    "pd.set_option(\"display.expand_frame_repr\", False)\n",
    "pd.set_option(\"display.float_format\", lambda x: \"%.5f\" % x)"
   ],
   "metadata": {
    "collapsed": false,
    "ExecuteTime": {
     "end_time": "2024-09-17T19:57:51.042891Z",
     "start_time": "2024-09-17T19:57:51.011306Z"
    }
   },
   "id": "845046d0eb50d8dd",
   "execution_count": 1
  },
  {
   "cell_type": "code",
   "outputs": [
    {
     "data": {
      "text/plain": "   Impression_control  Click_control  Purchase_control  Earnings_control\n0         82529.45927     6090.07732         665.21125        2311.27714\n1         98050.45193     3382.86179         315.08489        1742.80686\n2         82696.02355     4167.96575         458.08374        1797.82745\n3        109914.40040     4910.88224         487.09077        1696.22918\n4        108457.76263     5987.65581         441.03405        1543.72018",
      "text/html": "<div>\n<style scoped>\n    .dataframe tbody tr th:only-of-type {\n        vertical-align: middle;\n    }\n\n    .dataframe tbody tr th {\n        vertical-align: top;\n    }\n\n    .dataframe thead th {\n        text-align: right;\n    }\n</style>\n<table border=\"1\" class=\"dataframe\">\n  <thead>\n    <tr style=\"text-align: right;\">\n      <th></th>\n      <th>Impression_control</th>\n      <th>Click_control</th>\n      <th>Purchase_control</th>\n      <th>Earnings_control</th>\n    </tr>\n  </thead>\n  <tbody>\n    <tr>\n      <th>0</th>\n      <td>82529.45927</td>\n      <td>6090.07732</td>\n      <td>665.21125</td>\n      <td>2311.27714</td>\n    </tr>\n    <tr>\n      <th>1</th>\n      <td>98050.45193</td>\n      <td>3382.86179</td>\n      <td>315.08489</td>\n      <td>1742.80686</td>\n    </tr>\n    <tr>\n      <th>2</th>\n      <td>82696.02355</td>\n      <td>4167.96575</td>\n      <td>458.08374</td>\n      <td>1797.82745</td>\n    </tr>\n    <tr>\n      <th>3</th>\n      <td>109914.40040</td>\n      <td>4910.88224</td>\n      <td>487.09077</td>\n      <td>1696.22918</td>\n    </tr>\n    <tr>\n      <th>4</th>\n      <td>108457.76263</td>\n      <td>5987.65581</td>\n      <td>441.03405</td>\n      <td>1543.72018</td>\n    </tr>\n  </tbody>\n</table>\n</div>"
     },
     "execution_count": 3,
     "metadata": {},
     "output_type": "execute_result"
    }
   ],
   "source": [
    "# Adım 1:  ab_testing_data.xlsx adlı kontrol ve test grubu verilerinden oluşan veri setini okutunuz. Kontrol ve test grubu verilerini ayrı değişkenlere atayınız.\n",
    "\n",
    "df_control = pd.read_excel(\"ab_testing.xlsx\", sheet_name=\"Control Group\")\n",
    "df_control.columns = [\"Impression_control\", \"Click_control\", \"Purchase_control\", \"Earnings_control\"]\n",
    "df_control.head()"
   ],
   "metadata": {
    "collapsed": false,
    "ExecuteTime": {
     "end_time": "2024-09-17T19:58:28.719883Z",
     "start_time": "2024-09-17T19:58:28.547738Z"
    }
   },
   "id": "d9a75e46b91c3506",
   "execution_count": 3
  },
  {
   "cell_type": "code",
   "outputs": [
    {
     "data": {
      "text/plain": "   Impression_test  Click_test  Purchase_test  Earnings_test\n0     120103.50380  3216.54796      702.16035     1939.61124\n1     134775.94336  3635.08242      834.05429     2929.40582\n2     107806.62079  3057.14356      422.93426     2526.24488\n3     116445.27553  4650.47391      429.03353     2281.42857\n4     145082.51684  5201.38772      749.86044     2781.69752",
      "text/html": "<div>\n<style scoped>\n    .dataframe tbody tr th:only-of-type {\n        vertical-align: middle;\n    }\n\n    .dataframe tbody tr th {\n        vertical-align: top;\n    }\n\n    .dataframe thead th {\n        text-align: right;\n    }\n</style>\n<table border=\"1\" class=\"dataframe\">\n  <thead>\n    <tr style=\"text-align: right;\">\n      <th></th>\n      <th>Impression_test</th>\n      <th>Click_test</th>\n      <th>Purchase_test</th>\n      <th>Earnings_test</th>\n    </tr>\n  </thead>\n  <tbody>\n    <tr>\n      <th>0</th>\n      <td>120103.50380</td>\n      <td>3216.54796</td>\n      <td>702.16035</td>\n      <td>1939.61124</td>\n    </tr>\n    <tr>\n      <th>1</th>\n      <td>134775.94336</td>\n      <td>3635.08242</td>\n      <td>834.05429</td>\n      <td>2929.40582</td>\n    </tr>\n    <tr>\n      <th>2</th>\n      <td>107806.62079</td>\n      <td>3057.14356</td>\n      <td>422.93426</td>\n      <td>2526.24488</td>\n    </tr>\n    <tr>\n      <th>3</th>\n      <td>116445.27553</td>\n      <td>4650.47391</td>\n      <td>429.03353</td>\n      <td>2281.42857</td>\n    </tr>\n    <tr>\n      <th>4</th>\n      <td>145082.51684</td>\n      <td>5201.38772</td>\n      <td>749.86044</td>\n      <td>2781.69752</td>\n    </tr>\n  </tbody>\n</table>\n</div>"
     },
     "execution_count": 5,
     "metadata": {},
     "output_type": "execute_result"
    }
   ],
   "source": [
    "df_test = pd.read_excel(\"ab_testing.xlsx\", sheet_name=\"Test Group\")\n",
    "df_test.columns = [\"Impression_test\", \"Click_test\", \"Purchase_test\", \"Earnings_test\"]\n",
    "df_test.head()"
   ],
   "metadata": {
    "collapsed": false,
    "ExecuteTime": {
     "end_time": "2024-09-17T19:58:49.886779Z",
     "start_time": "2024-09-17T19:58:49.871977Z"
    }
   },
   "id": "d73371e892116622",
   "execution_count": 5
  },
  {
   "cell_type": "code",
   "outputs": [
    {
     "name": "stdout",
     "output_type": "stream",
     "text": [
      "########################### Control Group ###########################\n",
      "########################### DESCRIBE ###########################\n",
      "       Impression_control  Click_control  Purchase_control  Earnings_control\n",
      "count            40.00000       40.00000          40.00000          40.00000\n",
      "mean         101711.44907     5100.65737         550.89406        1908.56830\n",
      "std           20302.15786     1329.98550         134.10820         302.91778\n",
      "min           45475.94296     2189.75316         267.02894        1253.98952\n",
      "25%           85726.69035     4124.30413         470.09553        1685.84720\n",
      "50%           99790.70108     5001.22060         531.20631        1975.16052\n",
      "75%          115212.81654     5923.80360         637.95709        2119.80278\n",
      "max          147539.33633     7959.12507         801.79502        2497.29522\n",
      "########################### SHAPE ###########################\n",
      "(40, 4)\n",
      "########################### NaN ###########################\n",
      "Impression_control    0\n",
      "Click_control         0\n",
      "Purchase_control      0\n",
      "Earnings_control      0\n",
      "dtype: int64\n",
      "########################### Info ###########################\n",
      "<class 'pandas.core.frame.DataFrame'>\n",
      "RangeIndex: 40 entries, 0 to 39\n",
      "Data columns (total 4 columns):\n",
      " #   Column              Non-Null Count  Dtype  \n",
      "---  ------              --------------  -----  \n",
      " 0   Impression_control  40 non-null     float64\n",
      " 1   Click_control       40 non-null     float64\n",
      " 2   Purchase_control    40 non-null     float64\n",
      " 3   Earnings_control    40 non-null     float64\n",
      "dtypes: float64(4)\n",
      "memory usage: 1.4 KB\n",
      "None\n"
     ]
    }
   ],
   "source": [
    "# Adım 2: Kontrol ve test grubu verilerini analiz ediniz.\n",
    "\n",
    "def check_df(dataframe, df_name):\n",
    "    print(f\"########################### {df_name} ###########################\")\n",
    "    \n",
    "    print(\"########################### DESCRIBE ###########################\")\n",
    "    print(dataframe.describe())\n",
    "    print(\"########################### SHAPE ###########################\")\n",
    "    print(dataframe.shape)\n",
    "    print(\"########################### NaN ###########################\")\n",
    "    print(dataframe.isnull().sum())\n",
    "    print(\"########################### Info ###########################\")\n",
    "    print(dataframe.info())\n",
    "\n",
    "# Kontrol\n",
    "check_df(df_control, \"Control Group\")\n",
    "    "
   ],
   "metadata": {
    "collapsed": false,
    "ExecuteTime": {
     "end_time": "2024-09-17T20:09:00.733769Z",
     "start_time": "2024-09-17T20:09:00.721562Z"
    }
   },
   "id": "bf61505caa681905",
   "execution_count": 25
  },
  {
   "cell_type": "code",
   "outputs": [
    {
     "name": "stdout",
     "output_type": "stream",
     "text": [
      "########################### Test Group ###########################\n",
      "########################### DESCRIBE ###########################\n",
      "       Impression_test  Click_test  Purchase_test  Earnings_test\n",
      "count         40.00000    40.00000       40.00000       40.00000\n",
      "mean      120512.41176  3967.54976      582.10610     2514.89073\n",
      "std        18807.44871   923.09507      161.15251      282.73085\n",
      "min        79033.83492  1836.62986      311.62952     1939.61124\n",
      "25%       112691.97077  3376.81902      444.62683     2280.53743\n",
      "50%       119291.30077  3931.35980      551.35573     2544.66611\n",
      "75%       132050.57893  4660.49791      699.86236     2761.54540\n",
      "max       158605.92048  6019.69508      889.91046     3171.48971\n",
      "########################### SHAPE ###########################\n",
      "(40, 4)\n",
      "########################### NaN ###########################\n",
      "Impression_test    0\n",
      "Click_test         0\n",
      "Purchase_test      0\n",
      "Earnings_test      0\n",
      "dtype: int64\n",
      "########################### Info ###########################\n",
      "<class 'pandas.core.frame.DataFrame'>\n",
      "RangeIndex: 40 entries, 0 to 39\n",
      "Data columns (total 4 columns):\n",
      " #   Column           Non-Null Count  Dtype  \n",
      "---  ------           --------------  -----  \n",
      " 0   Impression_test  40 non-null     float64\n",
      " 1   Click_test       40 non-null     float64\n",
      " 2   Purchase_test    40 non-null     float64\n",
      " 3   Earnings_test    40 non-null     float64\n",
      "dtypes: float64(4)\n",
      "memory usage: 1.4 KB\n",
      "None\n"
     ]
    }
   ],
   "source": [
    "# Test\n",
    "check_df(df_test, \"Test Group\")"
   ],
   "metadata": {
    "collapsed": false,
    "ExecuteTime": {
     "end_time": "2024-09-17T20:09:04.081219Z",
     "start_time": "2024-09-17T20:09:04.071062Z"
    }
   },
   "id": "a9f1fd2966f6e5c6",
   "execution_count": 26
  },
  {
   "cell_type": "code",
   "outputs": [
    {
     "data": {
      "text/plain": "   Impression_control  Click_control  Purchase_control  Earnings_control  Impression_test  Click_test  Purchase_test  Earnings_test\n0         82529.45927     6090.07732         665.21125        2311.27714     120103.50380  3216.54796      702.16035     1939.61124\n1         98050.45193     3382.86179         315.08489        1742.80686     134775.94336  3635.08242      834.05429     2929.40582\n2         82696.02355     4167.96575         458.08374        1797.82745     107806.62079  3057.14356      422.93426     2526.24488\n3        109914.40040     4910.88224         487.09077        1696.22918     116445.27553  4650.47391      429.03353     2281.42857\n4        108457.76263     5987.65581         441.03405        1543.72018     145082.51684  5201.38772      749.86044     2781.69752",
      "text/html": "<div>\n<style scoped>\n    .dataframe tbody tr th:only-of-type {\n        vertical-align: middle;\n    }\n\n    .dataframe tbody tr th {\n        vertical-align: top;\n    }\n\n    .dataframe thead th {\n        text-align: right;\n    }\n</style>\n<table border=\"1\" class=\"dataframe\">\n  <thead>\n    <tr style=\"text-align: right;\">\n      <th></th>\n      <th>Impression_control</th>\n      <th>Click_control</th>\n      <th>Purchase_control</th>\n      <th>Earnings_control</th>\n      <th>Impression_test</th>\n      <th>Click_test</th>\n      <th>Purchase_test</th>\n      <th>Earnings_test</th>\n    </tr>\n  </thead>\n  <tbody>\n    <tr>\n      <th>0</th>\n      <td>82529.45927</td>\n      <td>6090.07732</td>\n      <td>665.21125</td>\n      <td>2311.27714</td>\n      <td>120103.50380</td>\n      <td>3216.54796</td>\n      <td>702.16035</td>\n      <td>1939.61124</td>\n    </tr>\n    <tr>\n      <th>1</th>\n      <td>98050.45193</td>\n      <td>3382.86179</td>\n      <td>315.08489</td>\n      <td>1742.80686</td>\n      <td>134775.94336</td>\n      <td>3635.08242</td>\n      <td>834.05429</td>\n      <td>2929.40582</td>\n    </tr>\n    <tr>\n      <th>2</th>\n      <td>82696.02355</td>\n      <td>4167.96575</td>\n      <td>458.08374</td>\n      <td>1797.82745</td>\n      <td>107806.62079</td>\n      <td>3057.14356</td>\n      <td>422.93426</td>\n      <td>2526.24488</td>\n    </tr>\n    <tr>\n      <th>3</th>\n      <td>109914.40040</td>\n      <td>4910.88224</td>\n      <td>487.09077</td>\n      <td>1696.22918</td>\n      <td>116445.27553</td>\n      <td>4650.47391</td>\n      <td>429.03353</td>\n      <td>2281.42857</td>\n    </tr>\n    <tr>\n      <th>4</th>\n      <td>108457.76263</td>\n      <td>5987.65581</td>\n      <td>441.03405</td>\n      <td>1543.72018</td>\n      <td>145082.51684</td>\n      <td>5201.38772</td>\n      <td>749.86044</td>\n      <td>2781.69752</td>\n    </tr>\n  </tbody>\n</table>\n</div>"
     },
     "execution_count": 28,
     "metadata": {},
     "output_type": "execute_result"
    }
   ],
   "source": [
    "# Adım 3: Analiz işleminden sonra concat metodunu kullanarak kontrol ve test grubu verilerini birleştiriniz.\n",
    "df = pd.concat([df_control, df_test], axis=1)\n",
    "df.head()"
   ],
   "metadata": {
    "collapsed": false,
    "ExecuteTime": {
     "end_time": "2024-09-17T20:09:37.580675Z",
     "start_time": "2024-09-17T20:09:37.575570Z"
    }
   },
   "id": "e72c71d0676385f4",
   "execution_count": 28
  },
  {
   "cell_type": "code",
   "outputs": [],
   "source": [
    "# Görev 2:  A/B Testinin Hipotezinin Tanımlanması\n",
    "\n",
    "# Adım 1: Hipotezi tanımlayınız.\n",
    "\n",
    "# H0: M1 = M2\n",
    "# H1: M2 != M2"
   ],
   "metadata": {
    "collapsed": false,
    "ExecuteTime": {
     "end_time": "2024-09-17T20:10:10.681643Z",
     "start_time": "2024-09-17T20:10:10.679656Z"
    }
   },
   "id": "9824d81f826a5548",
   "execution_count": 29
  },
  {
   "cell_type": "code",
   "outputs": [
    {
     "name": "stdout",
     "output_type": "stream",
     "text": [
      "550.8940587702316\n",
      "############################\n",
      "582.1060966484677\n"
     ]
    }
   ],
   "source": [
    "# Adım 2: Kontrol ve test grubu için purchase(kazanç) ortalamalarını analiz ediniz\n",
    "\n",
    "print(df[\"Purchase_control\"].mean())\n",
    "print(\"############################\")\n",
    "print(df[\"Purchase_test\"].mean())\n"
   ],
   "metadata": {
    "collapsed": false,
    "ExecuteTime": {
     "end_time": "2024-09-17T20:10:48.939159Z",
     "start_time": "2024-09-17T20:10:48.936161Z"
    }
   },
   "id": "9cd3c3447fafabe",
   "execution_count": 30
  },
  {
   "cell_type": "code",
   "outputs": [],
   "source": [
    "# GÖREV 3: Hipotez Testinin Gerçekleştirilmesi\n",
    "\n",
    "# 1. Normallik Varsayımı\n",
    "\n",
    "# H0: Normal dağılım varsayımı sağlanmaktadır.\n",
    "# H1:..sağlanmamaktadır."
   ],
   "metadata": {
    "collapsed": false
   },
   "id": "e42d15982f5510"
  },
  {
   "cell_type": "code",
   "outputs": [
    {
     "name": "stdout",
     "output_type": "stream",
     "text": [
      "Test Stat = 0.9773, p-value = 0.5891\n",
      "H0 Hipotezi REDDEDİLEMEZ.\n"
     ]
    }
   ],
   "source": [
    "# Adım 1: Hipotez testi yapılmadan önce varsayım kontrollerini yapınız.Bunlar Normallik Varsayımı ve Varyans Homojenliğidir.\n",
    "# Kontrol ve test grubunun normallik varsayımına uyup uymadığını Purchase değişkeni üzerinden ayrı ayrı test ediniz\n",
    "\n",
    "# Normallik testi (Control)\n",
    "test_stat, pvalue = shapiro(df[\"Purchase_control\"])\n",
    "print('Test Stat = %.4f, p-value = %.4f' % (test_stat, pvalue))\n",
    "if pvalue < 0.05:\n",
    "    print(\"H0 Hipotezi REDDEDİLİR.\")\n",
    "else:\n",
    "    print(\"H0 Hipotezi REDDEDİLEMEZ.\")"
   ],
   "metadata": {
    "collapsed": false,
    "ExecuteTime": {
     "end_time": "2024-09-17T20:14:39.410565Z",
     "start_time": "2024-09-17T20:14:39.407488Z"
    }
   },
   "id": "4dbc3c8dc792828",
   "execution_count": 36
  },
  {
   "cell_type": "code",
   "outputs": [
    {
     "name": "stdout",
     "output_type": "stream",
     "text": [
      "Test Stat = 0.9589, p-value = 0.1541\n",
      "H0 Hipotezi REDDEDİLEMEZ.\n"
     ]
    }
   ],
   "source": [
    "# Normallik testi (Test)\n",
    "test_stat, pvalue = shapiro(df[\"Purchase_test\"])\n",
    "print('Test Stat = %.4f, p-value = %.4f' % (test_stat, pvalue))\n",
    "\n",
    "\n",
    "if pvalue < 0.05:\n",
    "    print(\"H0 Hipotezi REDDEDİLİR.\")\n",
    "else:\n",
    "    print(\"H0 Hipotezi REDDEDİLEMEZ.\")"
   ],
   "metadata": {
    "collapsed": false,
    "ExecuteTime": {
     "end_time": "2024-09-17T20:15:23.446640Z",
     "start_time": "2024-09-17T20:15:23.443274Z"
    }
   },
   "id": "30926e4e56cf8683",
   "execution_count": 37
  },
  {
   "cell_type": "code",
   "outputs": [
    {
     "name": "stdout",
     "output_type": "stream",
     "text": [
      "Test Stat = 2.6393, p-value = 0.1083\n",
      "H0 Hipotezi REDDEDİLEMEZ.\n"
     ]
    }
   ],
   "source": [
    "# H0: Varyanslar Homojendir\n",
    "# H1: Varyanslar Homojen Değildir\n",
    "\n",
    "test_stat, pvalue = levene(df[\"Purchase_control\"],\n",
    "                           df[\"Purchase_test\"])\n",
    "print('Test Stat = %.4f, p-value = %.4f' % (test_stat, pvalue))\n",
    "\n",
    "if pvalue < 0.05:\n",
    "    print(\"H0 Hipotezi REDDEDİLİR.\")\n",
    "else:\n",
    "    print(\"H0 Hipotezi REDDEDİLEMEZ.\")"
   ],
   "metadata": {
    "collapsed": false,
    "ExecuteTime": {
     "end_time": "2024-09-17T20:15:54.087746Z",
     "start_time": "2024-09-17T20:15:54.083633Z"
    }
   },
   "id": "862b683a77eb60a",
   "execution_count": 38
  },
  {
   "cell_type": "code",
   "outputs": [
    {
     "name": "stdout",
     "output_type": "stream",
     "text": [
      "Test Stat = -0.9416, p-value = 0.3493\n",
      "H0 Hipotezi REDDEDİLEMEZ.\n"
     ]
    }
   ],
   "source": [
    "# Normallik varsayımı sağlanıyor, Varyan homojenliği varsayımı sağlanıyor.\n",
    "\n",
    "# H0: M1 = M2\n",
    "# H1: M2 != M2\n",
    "\n",
    "test_stat, pvalue = ttest_ind(df[\"Purchase_control\"],\n",
    "                              df[\"Purchase_test\"],\n",
    "                              equal_var=True)\n",
    "\n",
    "print('Test Stat = %.4f, p-value = %.4f' % (test_stat, pvalue))\n",
    "\n",
    "if pvalue < 0.05:\n",
    "    print(\"H0 Hipotezi REDDEDİLİR.\")\n",
    "else:\n",
    "    print(\"H0 Hipotezi REDDEDİLEMEZ.\")"
   ],
   "metadata": {
    "collapsed": false,
    "ExecuteTime": {
     "end_time": "2024-09-17T20:17:12.417722Z",
     "start_time": "2024-09-17T20:17:12.414592Z"
    }
   },
   "id": "ce44df020510a530",
   "execution_count": 39
  }
 ],
 "metadata": {
  "kernelspec": {
   "display_name": "Python 3",
   "language": "python",
   "name": "python3"
  },
  "language_info": {
   "codemirror_mode": {
    "name": "ipython",
    "version": 2
   },
   "file_extension": ".py",
   "mimetype": "text/x-python",
   "name": "python",
   "nbconvert_exporter": "python",
   "pygments_lexer": "ipython2",
   "version": "2.7.6"
  }
 },
 "nbformat": 4,
 "nbformat_minor": 5
}
